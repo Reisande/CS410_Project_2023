{
 "cells": [
  {
   "cell_type": "code",
   "execution_count": null,
   "metadata": {},
   "outputs": [],
   "source": [
    "import nltk\n",
    "import random\n",
    "from nltk.corpus import reuters\n",
    "from nltk.probability import FreqDist\n",
    "\n",
    "#just use the reuters dataset\n",
    "#nltk.download('reuters')\n",
    "\n",
    "#Load the corpus\n",
    "words = reuters.words()\n",
    "\n",
    "# Calculate term frequencies\n",
    "freq_dist = FreqDist(words)\n",
    "print(freq_dist.shape())\n",
    "\n",
    "# Function to generate a document with a random length between 'min_length' and 'max_length', using term frequencies\n",
    "def generate_random_length_document(min_length, max_length, term_frequencies):\n",
    "    length = random.randint(min_length, max_length)\n",
    "    words = list(term_frequencies.keys())\n",
    "    frequencies = [term_frequencies[word] for word in words]\n",
    "    return ' '.join(random.choices(words, weights=frequencies, k=length))\n",
    "\n",
    "# Generate 100 documents with random lengths between 100 and 10,000 words, using term frequencies\n",
    "documents = [generate_random_length_document(100, 10000, freq_dist) for _ in range(100)]\n",
    "\n",
    "# Example of saving a document to a file\n",
    "with open('random_length_document_example.txt', 'w') as file:\n",
    "    file.write(documents[0])"
   ]
  }
 ],
 "metadata": {
  "language_info": {
   "name": "python"
  }
 },
 "nbformat": 4,
 "nbformat_minor": 2
}
